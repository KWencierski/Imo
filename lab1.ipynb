{
 "cells": [
  {
   "cell_type": "code",
   "execution_count": 63,
   "metadata": {
    "collapsed": true
   },
   "outputs": [],
   "source": [
    "import pandas as pd\n",
    "import numpy as np\n",
    "import matplotlib.pyplot as plt"
   ]
  },
  {
   "cell_type": "code",
   "execution_count": 50,
   "metadata": {
    "collapsed": false
   },
   "outputs": [
    {
     "name": "stdout",
     "output_type": "stream",
     "text": [
      "      1     2\n",
      "0  3140  1401\n",
      "1   556  1056\n",
      "2  3675  1522\n",
      "3  1182  1853\n",
      "4  3595   111\n"
     ]
    }
   ],
   "source": [
    "with open('./data/lab1/kroA100.txt') as f:\n",
    "    data = f.read()\n",
    "data = data.split('\\n')\n",
    "data = pd.DataFrame([i.split(' ') for i in data])\n",
    "data = data.drop(0, axis=1)\n",
    "data = data.drop(100, axis=0)\n",
    "\n",
    "print(data.head())"
   ]
  },
  {
   "cell_type": "code",
   "execution_count": 100,
   "metadata": {
    "collapsed": false
   },
   "outputs": [
    {
     "name": "stdout",
     "output_type": "stream",
     "text": [
      "1673.2555094784539\n"
     ]
    }
   ],
   "source": [
    "def distance(a, b):\n",
    "    return round(np.sqrt(( a[0] - b[0])**2 + (a[1]) - b[1])**2)\n",
    "\n",
    "points_matrix = data.to_numpy()\n",
    "matrix = []\n",
    "for i in range(100):\n",
    "    matrix.append([])\n",
    "    for j in range(100):\n",
    "        matrix[i].append(points_matrix[i,:].astype(int) - points_matrix[j,:].astype(int))\n",
    "matrix = np.array(matrix)\n",
    "\n",
    "distance_matrix = np.sqrt(np.square(matrix[:,:,0]) + np.square(matrix[:,:,1]))\n",
    "distance_matrix.shape\n",
    "\n",
    "for i in range(distance_matrix.shape[0]):\n",
    "    distance_matrix[i,i] = np.inf\n"
   ]
  },
  {
   "cell_type": "markdown",
   "metadata": {
    "collapsed": false
   },
   "source": [
    "Agorytm zachłanny"
   ]
  },
  {
   "cell_type": "code",
   "execution_count": 109,
   "metadata": {
    "collapsed": false
   },
   "outputs": [],
   "source": [
    "remaining = [i for i in range(100)]\n",
    "x = np.random.choice(remaining)\n",
    "first_cycle = [x]\n",
    "remaining.remove(x)\n",
    "x = np.random.choice(remaining)\n",
    "second_cycle = [x]\n",
    "remaining.remove(x)\n",
    "\n",
    "cycles = [first_cycle, second_cycle]"
   ]
  },
  {
   "cell_type": "code",
   "execution_count": 111,
   "metadata": {
    "collapsed": false,
    "pycharm": {
     "is_executing": true
    }
   },
   "outputs": [
    {
     "name": "stdout",
     "output_type": "stream",
     "text": [
      "15386.902575842169\n"
     ]
    }
   ],
   "source": [
    "def distance(cycle, node):\n",
    "    return matrix[cycle[-1]][node] + matrix[node][cycle[0]]\n",
    "\n",
    "def calc_distance_sum(cycle, distance_matrix):\n",
    "    suma = 0\n",
    "    for i in range(1,len(cycle)):\n",
    "        suma += distance_matrix[cycle[i-1], cycle[i]]\n",
    "    return suma\n",
    "\n",
    "while remaining:\n",
    "    for cycle in cycles:\n",
    "        previous = cycle[-1]\n",
    "        min_dist = distance_matrix[previous][remaining[0]]\n",
    "        min_node = remaining[0]\n",
    "        for node in remaining:\n",
    "            if distance_matrix[node, previous] < min_dist:\n",
    "                min_dist = distance_matrix[node,previous]\n",
    "                min_node = node\n",
    "\n",
    "        cycle.append(min_node)\n",
    "        remaining.remove(min_node)\n",
    "\n",
    "\n",
    "print(calc_distance_sum(cycles[0], distance_matrix))\n",
    "                     \n",
    "\n",
    "    \n",
    "        \n",
    "            "
   ]
  },
  {
   "cell_type": "code",
   "execution_count": 26,
   "metadata": {
    "collapsed": false
   },
   "outputs": [
    {
     "data": {
      "text/plain": [
       "array([[3438.37185307, 3438.37185307, 3438.37185307, ..., 3438.37185307,\n",
       "        3438.37185307, 3438.37185307],\n",
       "       [1193.42867403, 1193.42867403, 1193.42867403, ..., 1193.42867403,\n",
       "        1193.42867403, 1193.42867403],\n",
       "       [3977.70147196, 3977.70147196, 3977.70147196, ..., 3977.70147196,\n",
       "        3977.70147196, 3977.70147196],\n",
       "       ...,\n",
       "       [3514.34730782, 3514.34730782, 3514.34730782, ..., 3514.34730782,\n",
       "        3514.34730782, 3514.34730782],\n",
       "       [3991.85282795, 3991.85282795, 3991.85282795, ..., 3991.85282795,\n",
       "        3991.85282795, 3991.85282795],\n",
       "       [3063.92313872, 3063.92313872, 3063.92313872, ..., 3063.92313872,\n",
       "        3063.92313872, 3063.92313872]])"
      ]
     },
     "execution_count": 26,
     "metadata": {},
     "output_type": "execute_result"
    }
   ],
   "source": []
  },
  {
   "cell_type": "code",
   "execution_count": 94,
   "metadata": {
    "collapsed": false,
    "pycharm": {
     "is_executing": true
    }
   },
   "outputs": [
    {
     "ename": "AttributeError",
     "evalue": "module 'matplotlib.pyplot' has no attribute 'line'",
     "output_type": "error",
     "traceback": [
      "\u001b[1;31m---------------------------------------------------------------------------\u001b[0m",
      "\u001b[1;31mAttributeError\u001b[0m                            Traceback (most recent call last)",
      "\u001b[1;32mc:\\si\\imo\\Imo\\lab1.ipynb Cell 8\u001b[0m in \u001b[0;36m7\n\u001b[0;32m      <a href='vscode-notebook-cell:/c%3A/si/imo/Imo/lab1.ipynb#X10sZmlsZQ%3D%3D?line=3'>4</a>\u001b[0m     plt\u001b[39m.\u001b[39mline(points_matrix[cycle1, \u001b[39m0\u001b[39m], points_matrix[cycle1, \u001b[39m1\u001b[39m])\n\u001b[0;32m      <a href='vscode-notebook-cell:/c%3A/si/imo/Imo/lab1.ipynb#X10sZmlsZQ%3D%3D?line=4'>5</a>\u001b[0m     plt\u001b[39m.\u001b[39mshow()\n\u001b[1;32m----> <a href='vscode-notebook-cell:/c%3A/si/imo/Imo/lab1.ipynb#X10sZmlsZQ%3D%3D?line=6'>7</a>\u001b[0m plot_results(first_cycle, second_cycle)\n",
      "\u001b[1;32mc:\\si\\imo\\Imo\\lab1.ipynb Cell 8\u001b[0m in \u001b[0;36m4\n\u001b[0;32m      <a href='vscode-notebook-cell:/c%3A/si/imo/Imo/lab1.ipynb#X10sZmlsZQ%3D%3D?line=1'>2</a>\u001b[0m \u001b[39mdef\u001b[39;00m \u001b[39mplot_results\u001b[39m(cycle1, cycle2):\n\u001b[0;32m      <a href='vscode-notebook-cell:/c%3A/si/imo/Imo/lab1.ipynb#X10sZmlsZQ%3D%3D?line=2'>3</a>\u001b[0m     plt\u001b[39m.\u001b[39mscatter(points_matrix[\u001b[39m.\u001b[39m\u001b[39m.\u001b[39m\u001b[39m.\u001b[39m, \u001b[39m0\u001b[39m], points_matrix[\u001b[39m.\u001b[39m\u001b[39m.\u001b[39m\u001b[39m.\u001b[39m, \u001b[39m1\u001b[39m])\n\u001b[1;32m----> <a href='vscode-notebook-cell:/c%3A/si/imo/Imo/lab1.ipynb#X10sZmlsZQ%3D%3D?line=3'>4</a>\u001b[0m     plt\u001b[39m.\u001b[39;49mline(points_matrix[cycle1, \u001b[39m0\u001b[39m], points_matrix[cycle1, \u001b[39m1\u001b[39m])\n\u001b[0;32m      <a href='vscode-notebook-cell:/c%3A/si/imo/Imo/lab1.ipynb#X10sZmlsZQ%3D%3D?line=4'>5</a>\u001b[0m     plt\u001b[39m.\u001b[39mshow()\n",
      "\u001b[1;31mAttributeError\u001b[0m: module 'matplotlib.pyplot' has no attribute 'line'"
     ]
    },
    {
     "data": {
      "image/png": "[encoded data removed]",
      "text/plain": [
       "<Figure size 640x480 with 1 Axes>"
      ]
     },
     "metadata": {},
     "output_type": "display_data"
    }
   ],
   "source": [
    "points_matrix = points_matrix.astype(int)\n",
    "def plot_results(cycle1, cycle2):\n",
    "    plt.scatter(points_matrix[..., 0], points_matrix[..., 1])\n",
    "    plt.line(points_matrix[cycle1, 0], points_matrix[cycle1, 1])\n",
    "    # plot \n",
    "    plt.show()\n",
    "print(first_cycle, second_cycle)\n",
    "plot_results(first_cycle, second_cycle)"
   ]
  },
  {
   "cell_type": "code",
   "execution_count": 88,
   "metadata": {
    "collapsed": false
   },
   "outputs": [],
   "source": [
    "first_cycle.append(42)\n",
    "second_cycle.append(12)"
   ]
  },
  {
   "cell_type": "code",
   "execution_count": 86,
   "metadata": {},
   "outputs": [
    {
     "data": {
      "text/plain": [
       "(100, 2)"
      ]
     },
     "execution_count": 86,
     "metadata": {},
     "output_type": "execute_result"
    }
   ],
   "source": [
    "points_matrix.shape"
   ]
  }
 ],
 "metadata": {
  "kernelspec": {
   "display_name": "Python 3",
   "language": "python",
   "name": "python3"
  },
  "language_info": {
   "codemirror_mode": {
    "name": "ipython",
    "version": 3
   },
   "file_extension": ".py",
   "mimetype": "text/x-python",
   "name": "python",
   "nbconvert_exporter": "python",
   "pygments_lexer": "ipython3",
   "version": "3.8.15"
  }
 },
 "nbformat": 4,
 "nbformat_minor": 0
}

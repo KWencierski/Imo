{
 "cells": [
  {
   "cell_type": "code",
   "execution_count": 3,
   "metadata": {
    "collapsed": true
   },
   "outputs": [],
   "source": [
    "import pandas as pd\n",
    "import numpy as np"
   ]
  },
  {
   "cell_type": "code",
   "execution_count": 4,
   "outputs": [],
   "source": [
    "with open('./data/lab1/kroA100.txt') as f:\n",
    "    data = f.read()\n",
    "data = data.split('\\n')\n",
    "data = pd.DataFrame([i.split(' ') for i in data])\n",
    "data = data.drop(0, axis=1)\n",
    "data = data.drop(100, axis=0)"
   ],
   "metadata": {
    "collapsed": false
   }
  },
  {
   "cell_type": "code",
   "execution_count": 6,
   "outputs": [
    {
     "data": {
      "text/plain": "(100, 100, 2)"
     },
     "execution_count": 6,
     "metadata": {},
     "output_type": "execute_result"
    }
   ],
   "source": [
    "def distance(a, b):\n",
    "    return round(np.sqrt(( a[0] - b[0])**2 + (a[1]) - b[1])**2)\n",
    "\n",
    "matrix = []\n",
    "for i in range(100):\n",
    "    matrix.append([])\n",
    "    for j in range(100):\n",
    "        matrix[i].append(data.iloc[i])\n",
    "matrix = np.array(matrix)\n",
    "matrix.shape"
   ],
   "metadata": {
    "collapsed": false
   }
  },
  {
   "cell_type": "markdown",
   "source": [
    "Agorytm zachłanny"
   ],
   "metadata": {
    "collapsed": false
   }
  },
  {
   "cell_type": "code",
   "execution_count": 64,
   "outputs": [],
   "source": [
    "remaining = [i for i in range(100)]\n",
    "x = np.random.choice(remaining)\n",
    "first_cycle = [x]\n",
    "remaining.remove(x)\n",
    "x = np.random.choice(remaining)\n",
    "second_cycle = [x]\n",
    "remaining.remove(x)\n",
    "\n",
    "cycles = [first_cycle, second_cycle]"
   ],
   "metadata": {
    "collapsed": false
   }
  },
  {
   "cell_type": "code",
   "execution_count": null,
   "outputs": [],
   "source": [
    "def distance(cycle, node):\n",
    "    return matrix[cycle[-1]][node] + matrix[node][cycle[0]]\n",
    "\n",
    "while remaining:\n",
    "    for cycle in cycles:\n",
    "        min_dist = matrix[cycle[-1]][remaining[0]]\n",
    "        min_node = remaining[0]\n",
    "        for node in cycle:\n"
   ],
   "metadata": {
    "collapsed": false,
    "pycharm": {
     "is_executing": true
    }
   }
  },
  {
   "cell_type": "code",
   "execution_count": 64,
   "outputs": [],
   "source": [],
   "metadata": {
    "collapsed": false
   }
  },
  {
   "cell_type": "code",
   "execution_count": null,
   "outputs": [],
   "source": [],
   "metadata": {
    "collapsed": false,
    "pycharm": {
     "is_executing": true
    }
   }
  },
  {
   "cell_type": "code",
   "execution_count": 64,
   "outputs": [],
   "source": [],
   "metadata": {
    "collapsed": false
   }
  }
 ],
 "metadata": {
  "kernelspec": {
   "display_name": "Python 3",
   "language": "python",
   "name": "python3"
  },
  "language_info": {
   "codemirror_mode": {
    "name": "ipython",
    "version": 2
   },
   "file_extension": ".py",
   "mimetype": "text/x-python",
   "name": "python",
   "nbconvert_exporter": "python",
   "pygments_lexer": "ipython2",
   "version": "2.7.6"
  }
 },
 "nbformat": 4,
 "nbformat_minor": 0
}
